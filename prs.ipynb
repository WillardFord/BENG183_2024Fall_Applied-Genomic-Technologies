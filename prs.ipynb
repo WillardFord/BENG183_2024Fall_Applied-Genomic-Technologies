{
 "cells": [
  {
   "cell_type": "markdown",
   "metadata": {},
   "source": [
    "# Polygenic Risk Score Tutorial\n",
    "\n",
    "A polygenic risk score (PRS) is the natural next step to GWAS. If a GWAS is a linear regression, then a PRS is simply predicting what the value on the line given an input. \n",
    "\n",
    "TODO insert figure with 2d example.\n",
    "\n",
    "The main difference is that instead of using one variable X to predict an outcome Y. We are using hundreds of thousands of genomic variants to predict one phenotype.\n",
    "\n",
    "But just like there are many caveats to simply interpreting a straight line where it may not exist, we can't just take a PRS at face value without checking several things first.\n",
    "\n",
    "1. We can't predict outside the sample data --> can't rely on PRS for an individual outside the population because they may have variants that we never saw or very rarely saw\n",
    "2. The shape of the data may not actually be linear (the residuals have a pattern) --> harder to detect in GWAS and field of active study but we know non-linear gating does occur in genomics.\n",
    "3. Assumptions can be violated like homoscedasticity or the existance of confounding factors (variances are the same across all samples) --> (almost?) all traits are affected by the environment an individual was raised in which confounds are data and can account for differences in variance.\n",
    "\n",
    "TODO: figures explaining each of these errors in the simple linear regression world and then extrapolated to GWAS world would be cool.\n",
    "\n",
    "There are also some issues in PRS that don't exist in the single-variate version that we must take into account:\n",
    "1. Each variable may not be independent. In fact we're sure that some variants are more likely to be inherited together (this is called linkage disequilibrium). We try to correct this through clumping during GWAS and calculating PRS and through an additional step called fine-mapping.\n",
    "2. We can also see covariate effects where the interactions between variables on the output could take many forms. In GWAS we assume that the relationship is additive, but any linear or non-linear function could also be the case and we know is the case for some variants. We largely ignore this issue due to the complexity other models introduce though this is an active area of research (non-linear GWAS).\n",
    "3. We could have some of the data for our different variants, but not all. Predicting a value without all variants is common because variant sets are not standardized across GWASs, but this violates our training/prediction assumptions.\n",
    "\n",
    "We must always make sure to account for these errors where possible and acknowledge that our results contain biases and caveats when we cannot. Often, especially when predicting outside of our training population, the caveats are so great we cannot rely on a PRS score at all and it could be inherently harmful to do so.\n",
    "\n",
    "## PRS in practice:\n",
    "\n",
    "In a linear regression we predict our output $Y$ by plugging our input $X$ into our calculated formula where $\\epsilon$ is some learned error term:\n",
    "$$ Y = \\beta * X + \\epsilon $$\n",
    "\n",
    "In GWAS we have one input $X \\in \\{0, 1, 2\\}$ for each variant whose value depends on the number of copies of that variant in the sample. For $n$ possible variants, our regression formula becomes:\n",
    "$$ PRS = \\sum_{i=1}^{n} \\beta_{i} * X_{i} + \\epsilon_{i} $$ \n",
    "\n",
    "Finally, to account for covariates, we often include some external data that could be age, sex, location, or any other factor about the sample. We often include principal component  \n",
    "\n",
    "Then to actually calculate a PRS we just need to download the betas and the learned offsets, these are collectively called the summary statistics of a GWAS and almost always publically available. A database online exists called the [GWAS catalog](https://www.ebi.ac.uk/gwas/downloads/summary-statistics).\n",
    "\n",
    "Finally, we must also download a tool to efficiently perform this analysis (though the math is simple enough to implement for yourself). We'll use [PLINK 1.9](https://www.cog-genomics.org/plink/)'s `--score` option.\n",
    "\n",
    "Download the correct binary of plink 1.9 from [their directory](https://www.cog-genomics.org/plink/) and make sure to add plink to your path. To verify that it's installed properly execute `plink --version` and check for a message similar to the one below:\n",
    "```\n",
    "PLINK v1.90b7.2 64-bit (11 Dec 2023)\n",
    "```"
   ]
  },
  {
   "cell_type": "code",
   "execution_count": 6,
   "metadata": {},
   "outputs": [
    {
     "name": "stdout",
     "output_type": "stream",
     "text": [
      "PLINK v1.90b7.2 64-bit (11 Dec 2023)\n"
     ]
    }
   ],
   "source": [
    "%%bash\n",
    "plink --version"
   ]
  },
  {
   "cell_type": "markdown",
   "metadata": {},
   "source": [
    "TODO next steps:\n",
    "\n",
    "1. Download summary stats\n",
    "2. Download example data (1000 genomes? bim, fam, ped)\n",
    "3. Overlap the two datasets or get summary stats done on 1000 genomes\n",
    "4. Actually run PRS\n",
    "5. Come up with an interesting visual representation. Maybe run multiple people from 1000 genomes. idk."
   ]
  },
  {
   "cell_type": "code",
   "execution_count": null,
   "metadata": {},
   "outputs": [],
   "source": []
  },
  {
   "cell_type": "markdown",
   "metadata": {},
   "source": []
  }
 ],
 "metadata": {
  "kernelspec": {
   "display_name": "scRNAseq",
   "language": "python",
   "name": "python3"
  },
  "language_info": {
   "codemirror_mode": {
    "name": "ipython",
    "version": 3
   },
   "file_extension": ".py",
   "mimetype": "text/x-python",
   "name": "python",
   "nbconvert_exporter": "python",
   "pygments_lexer": "ipython3",
   "version": "3.11.0"
  }
 },
 "nbformat": 4,
 "nbformat_minor": 2
}
